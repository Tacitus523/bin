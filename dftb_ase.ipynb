{
 "cells": [
  {
   "cell_type": "code",
   "execution_count": 1,
   "metadata": {},
   "outputs": [
    {
     "name": "stdout",
     "output_type": "stream",
     "text": [
      "/usr/local/bin/dftb+\n",
      "[[ 0.     0.     0.   ]\n",
      " [ 0.8    1.5   -0.4  ]\n",
      " [-0.1    0.    -0.514]\n",
      " [-0.1    1.    -1.514]\n",
      " [-0.1    2.    -1.514]]\n"
     ]
    }
   ],
   "source": [
    "import os\n",
    "from ase import Atoms\n",
    "from ase.calculators.dftb import Dftb\n",
    "from ase.io import write, read\n",
    "from ase.build import molecule\n",
    "from ase.optimize import LBFGS\n",
    "from ase.optimize.sciopt import SciPyFminBFGS\n",
    "import numpy as np\n",
    "import shutil\n",
    "\n",
    "print(shutil.which(\"dftb+\"))\n",
    "os.environ[\"DFTB_PREFIX\"] = \"/home/cschmidt/dftb_par/3ob-3-1/\"\n",
    "\n",
    "directory_path = '/data/cschmidt/heidelberg_HOMO_LUMO_anya'\n",
    "geom_opt_name = 'geom_opt.xyz'\n",
    "\n",
    "#atoms = molecule('H2O')\n",
    "atoms = Atoms('CH4', positions=[[0, 0, 0], [0.8, 1.5, -0.4], [-0.1, 0, -0.514], [-0.1, 1.0, -1.514], [-0.1, 2.0, -1.514]])\n",
    "print(atoms.positions)\n",
    "# Define parameters for DFTB calculation\n",
    "calculator = Dftb(atoms=atoms,\n",
    "            label='dftb',\n",
    "            Driver_='ConjugateGradient',\n",
    "            Driver_MaxForceComponent=1e-4,\n",
    "            Driver_MaxSteps=1000,\n",
    "            Hamiltonian_SCC='Yes',\n",
    "            Hamiltonian_SCCTolerance=1e-10,\n",
    "            Hamiltonian_MaxSCCIterations=250,\n",
    "            Hamiltonian_MaxAngularMomentum_='',\n",
    "            Hamiltonian_MaxAngularMomentum_O='p',\n",
    "            Hamiltonian_MaxAngularMomentum_H='s',\n",
    "            Hamiltonian_MaxAngularMomentum_C='p',\n",
    "            Options_WriteBandOut='Yes',\n",
    "            Hamiltonian_ThirdOrderFull = 'Yes',\n",
    "            Hamiltonian_HubbardDerivs_ = '',\n",
    "            Hamiltonian_HubbardDerivs_O = -0.1575,\n",
    "            Hamiltonian_HubbardDerivs_H = -0.1857,\n",
    "            Hamiltonian_HubbardDerivs_C = -0.14,\n",
    "            # Hamiltonian_Filling = 'Fermi {}',\n",
    "            directory=\".\")\n",
    "\n",
    "atoms.set_calculator = calculator\n",
    "\n",
    "# Run the optimization\n",
    "calculator.calculate(atoms)\n",
    "\n",
    "# The 'geo_end.gen' file written by the ASE calculator\n",
    "# (containing the initial geometry), has been overwritten\n",
    "# by DFTB+ and now contains the final, optimized geometry.\n",
    "opt_file_name = 'geo_end.gen'\n",
    "opt_file_path = os.path.join(os.getcwd(), opt_file_name)\n",
    "final = read(opt_file_path)\n",
    "geom_opt_path = os.path.join(os.getcwd(), geom_opt_name)\n",
    "write(geom_opt_path, final)"
   ]
  },
  {
   "cell_type": "code",
   "execution_count": 33,
   "metadata": {},
   "outputs": [
    {
     "name": "stdout",
     "output_type": "stream",
     "text": [
      "       Step     Time          Energy         fmax\n",
      "LBFGS:    0 16:54:43     -110.541149        0.0017\n",
      "LBFGS:    1 16:54:48     -110.541149        0.0017\n",
      "LBFGS:    2 16:54:53     -110.541149        0.0016\n",
      "LBFGS:    3 16:54:54     -110.541149        0.0014\n",
      "LBFGS:    4 16:54:57     -110.541149        0.0013\n",
      "LBFGS:    5 16:55:00     -110.541149        0.0012\n",
      "LBFGS:    6 16:55:03     -110.541149        0.0011\n",
      "LBFGS:    7 16:55:06     -110.541149        0.0010\n",
      "LBFGS:    8 16:55:07     -110.541149        0.0009\n",
      "LBFGS:    9 16:55:11     -110.541149        0.0008\n",
      "LBFGS:   10 16:55:15     -110.541149        0.0051\n",
      "LBFGS:   11 16:55:17     -110.541149        0.0009\n"
     ]
    },
    {
     "ename": "KeyboardInterrupt",
     "evalue": "",
     "output_type": "error",
     "traceback": [
      "\u001b[0;31m---------------------------------------------------------------------------\u001b[0m",
      "\u001b[0;31mKeyboardInterrupt\u001b[0m                         Traceback (most recent call last)",
      "Cell \u001b[0;32mIn[33], line 3\u001b[0m\n\u001b[1;32m      1\u001b[0m \u001b[39m# Perform the geometry optimization\u001b[39;00m\n\u001b[1;32m      2\u001b[0m optimizer \u001b[39m=\u001b[39m LBFGS(atoms, trajectory\u001b[39m=\u001b[39m\u001b[39m'\u001b[39m\u001b[39mH2O.traj\u001b[39m\u001b[39m'\u001b[39m, use_line_search\u001b[39m=\u001b[39m\u001b[39mFalse\u001b[39;00m, damping\u001b[39m=\u001b[39m\u001b[39m0.1\u001b[39m)\n\u001b[0;32m----> 3\u001b[0m optimizer\u001b[39m.\u001b[39;49mrun(fmax \u001b[39m=\u001b[39;49m \u001b[39m0.0001\u001b[39;49m)\n\u001b[1;32m      4\u001b[0m \u001b[39m# Access the optimized geometry\u001b[39;00m\n\u001b[1;32m      5\u001b[0m optimized_positions \u001b[39m=\u001b[39m atoms\u001b[39m.\u001b[39mpositions\n",
      "File \u001b[0;32m~/miniconda3/envs/mda/lib/python3.11/site-packages/ase/optimize/optimize.py:269\u001b[0m, in \u001b[0;36mOptimizer.run\u001b[0;34m(self, fmax, steps)\u001b[0m\n\u001b[1;32m    267\u001b[0m \u001b[39mif\u001b[39;00m steps:\n\u001b[1;32m    268\u001b[0m     \u001b[39mself\u001b[39m\u001b[39m.\u001b[39mmax_steps \u001b[39m=\u001b[39m steps\n\u001b[0;32m--> 269\u001b[0m \u001b[39mreturn\u001b[39;00m Dynamics\u001b[39m.\u001b[39;49mrun(\u001b[39mself\u001b[39;49m)\n",
      "File \u001b[0;32m~/miniconda3/envs/mda/lib/python3.11/site-packages/ase/optimize/optimize.py:156\u001b[0m, in \u001b[0;36mDynamics.run\u001b[0;34m(self)\u001b[0m\n\u001b[1;32m    149\u001b[0m \u001b[39mdef\u001b[39;00m \u001b[39mrun\u001b[39m(\u001b[39mself\u001b[39m):\n\u001b[1;32m    150\u001b[0m \u001b[39m    \u001b[39m\u001b[39m\"\"\"Run dynamics algorithm.\u001b[39;00m\n\u001b[1;32m    151\u001b[0m \n\u001b[1;32m    152\u001b[0m \u001b[39m    This method will return when the forces on all individual\u001b[39;00m\n\u001b[1;32m    153\u001b[0m \u001b[39m    atoms are less than *fmax* or when the number of steps exceeds\u001b[39;00m\n\u001b[1;32m    154\u001b[0m \u001b[39m    *steps*.\"\"\"\u001b[39;00m\n\u001b[0;32m--> 156\u001b[0m     \u001b[39mfor\u001b[39;00m converged \u001b[39min\u001b[39;00m Dynamics\u001b[39m.\u001b[39mirun(\u001b[39mself\u001b[39m):\n\u001b[1;32m    157\u001b[0m         \u001b[39mpass\u001b[39;00m\n\u001b[1;32m    158\u001b[0m     \u001b[39mreturn\u001b[39;00m converged\n",
      "File \u001b[0;32m~/miniconda3/envs/mda/lib/python3.11/site-packages/ase/optimize/optimize.py:143\u001b[0m, in \u001b[0;36mDynamics.irun\u001b[0;34m(self)\u001b[0m\n\u001b[1;32m    140\u001b[0m     \u001b[39myield\u001b[39;00m \u001b[39mFalse\u001b[39;00m\n\u001b[1;32m    142\u001b[0m     \u001b[39m# log the step\u001b[39;00m\n\u001b[0;32m--> 143\u001b[0m     \u001b[39mself\u001b[39;49m\u001b[39m.\u001b[39;49mlog()\n\u001b[1;32m    144\u001b[0m     \u001b[39mself\u001b[39m\u001b[39m.\u001b[39mcall_observers()\n\u001b[1;32m    146\u001b[0m \u001b[39m# finally check if algorithm was converged\u001b[39;00m\n",
      "File \u001b[0;32m~/miniconda3/envs/mda/lib/python3.11/site-packages/ase/optimize/optimize.py:283\u001b[0m, in \u001b[0;36mOptimizer.log\u001b[0;34m(self, forces)\u001b[0m\n\u001b[1;32m    281\u001b[0m \u001b[39mdef\u001b[39;00m \u001b[39mlog\u001b[39m(\u001b[39mself\u001b[39m, forces\u001b[39m=\u001b[39m\u001b[39mNone\u001b[39;00m):\n\u001b[1;32m    282\u001b[0m     \u001b[39mif\u001b[39;00m forces \u001b[39mis\u001b[39;00m \u001b[39mNone\u001b[39;00m:\n\u001b[0;32m--> 283\u001b[0m         forces \u001b[39m=\u001b[39m \u001b[39mself\u001b[39;49m\u001b[39m.\u001b[39;49matoms\u001b[39m.\u001b[39;49mget_forces()\n\u001b[1;32m    284\u001b[0m     fmax \u001b[39m=\u001b[39m sqrt((forces \u001b[39m*\u001b[39m\u001b[39m*\u001b[39m \u001b[39m2\u001b[39m)\u001b[39m.\u001b[39msum(axis\u001b[39m=\u001b[39m\u001b[39m1\u001b[39m)\u001b[39m.\u001b[39mmax())\n\u001b[1;32m    285\u001b[0m     e \u001b[39m=\u001b[39m \u001b[39mself\u001b[39m\u001b[39m.\u001b[39matoms\u001b[39m.\u001b[39mget_potential_energy(\n\u001b[1;32m    286\u001b[0m         force_consistent\u001b[39m=\u001b[39m\u001b[39mself\u001b[39m\u001b[39m.\u001b[39mforce_consistent\n\u001b[1;32m    287\u001b[0m     )\n",
      "File \u001b[0;32m~/miniconda3/envs/mda/lib/python3.11/site-packages/ase/atoms.py:788\u001b[0m, in \u001b[0;36mAtoms.get_forces\u001b[0;34m(self, apply_constraint, md)\u001b[0m\n\u001b[1;32m    786\u001b[0m \u001b[39mif\u001b[39;00m \u001b[39mself\u001b[39m\u001b[39m.\u001b[39m_calc \u001b[39mis\u001b[39;00m \u001b[39mNone\u001b[39;00m:\n\u001b[1;32m    787\u001b[0m     \u001b[39mraise\u001b[39;00m \u001b[39mRuntimeError\u001b[39;00m(\u001b[39m'\u001b[39m\u001b[39mAtoms object has no calculator.\u001b[39m\u001b[39m'\u001b[39m)\n\u001b[0;32m--> 788\u001b[0m forces \u001b[39m=\u001b[39m \u001b[39mself\u001b[39;49m\u001b[39m.\u001b[39;49m_calc\u001b[39m.\u001b[39;49mget_forces(\u001b[39mself\u001b[39;49m)\n\u001b[1;32m    790\u001b[0m \u001b[39mif\u001b[39;00m apply_constraint:\n\u001b[1;32m    791\u001b[0m     \u001b[39m# We need a special md flag here because for MD we want\u001b[39;00m\n\u001b[1;32m    792\u001b[0m     \u001b[39m# to skip real constraints but include special \"constraints\"\u001b[39;00m\n\u001b[1;32m    793\u001b[0m     \u001b[39m# Like Hookean.\u001b[39;00m\n\u001b[1;32m    794\u001b[0m     \u001b[39mfor\u001b[39;00m constraint \u001b[39min\u001b[39;00m \u001b[39mself\u001b[39m\u001b[39m.\u001b[39mconstraints:\n",
      "File \u001b[0;32m~/miniconda3/envs/mda/lib/python3.11/site-packages/ase/calculators/abc.py:23\u001b[0m, in \u001b[0;36mGetPropertiesMixin.get_forces\u001b[0;34m(self, atoms)\u001b[0m\n\u001b[1;32m     22\u001b[0m \u001b[39mdef\u001b[39;00m \u001b[39mget_forces\u001b[39m(\u001b[39mself\u001b[39m, atoms\u001b[39m=\u001b[39m\u001b[39mNone\u001b[39;00m):\n\u001b[0;32m---> 23\u001b[0m     \u001b[39mreturn\u001b[39;00m \u001b[39mself\u001b[39;49m\u001b[39m.\u001b[39;49mget_property(\u001b[39m'\u001b[39;49m\u001b[39mforces\u001b[39;49m\u001b[39m'\u001b[39;49m, atoms)\n",
      "File \u001b[0;32m~/miniconda3/envs/mda/lib/python3.11/site-packages/ase/calculators/calculator.py:737\u001b[0m, in \u001b[0;36mCalculator.get_property\u001b[0;34m(self, name, atoms, allow_calculation)\u001b[0m\n\u001b[1;32m    735\u001b[0m     \u001b[39mif\u001b[39;00m \u001b[39mnot\u001b[39;00m allow_calculation:\n\u001b[1;32m    736\u001b[0m         \u001b[39mreturn\u001b[39;00m \u001b[39mNone\u001b[39;00m\n\u001b[0;32m--> 737\u001b[0m     \u001b[39mself\u001b[39;49m\u001b[39m.\u001b[39;49mcalculate(atoms, [name], system_changes)\n\u001b[1;32m    739\u001b[0m \u001b[39mif\u001b[39;00m name \u001b[39mnot\u001b[39;00m \u001b[39min\u001b[39;00m \u001b[39mself\u001b[39m\u001b[39m.\u001b[39mresults:\n\u001b[1;32m    740\u001b[0m     \u001b[39m# For some reason the calculator was not able to do what we want,\u001b[39;00m\n\u001b[1;32m    741\u001b[0m     \u001b[39m# and that is OK.\u001b[39;00m\n\u001b[1;32m    742\u001b[0m     \u001b[39mraise\u001b[39;00m PropertyNotImplementedError(\u001b[39m'\u001b[39m\u001b[39m{}\u001b[39;00m\u001b[39m not present in this \u001b[39m\u001b[39m'\u001b[39m\n\u001b[1;32m    743\u001b[0m                                       \u001b[39m'\u001b[39m\u001b[39mcalculation\u001b[39m\u001b[39m'\u001b[39m\u001b[39m.\u001b[39mformat(name))\n",
      "File \u001b[0;32m~/miniconda3/envs/mda/lib/python3.11/site-packages/ase/calculators/calculator.py:931\u001b[0m, in \u001b[0;36mFileIOCalculator.calculate\u001b[0;34m(self, atoms, properties, system_changes)\u001b[0m\n\u001b[1;32m    928\u001b[0m     msg \u001b[39m=\u001b[39m \u001b[39m'\u001b[39m\u001b[39mFailed to execute \u001b[39m\u001b[39m\"\u001b[39m\u001b[39m{}\u001b[39;00m\u001b[39m\"\u001b[39m\u001b[39m'\u001b[39m\u001b[39m.\u001b[39mformat(command)\n\u001b[1;32m    929\u001b[0m     \u001b[39mraise\u001b[39;00m \u001b[39mEnvironmentError\u001b[39;00m(msg) \u001b[39mfrom\u001b[39;00m \u001b[39merr\u001b[39;00m\n\u001b[0;32m--> 931\u001b[0m errorcode \u001b[39m=\u001b[39m proc\u001b[39m.\u001b[39;49mwait()\n\u001b[1;32m    933\u001b[0m \u001b[39mif\u001b[39;00m errorcode:\n\u001b[1;32m    934\u001b[0m     path \u001b[39m=\u001b[39m os\u001b[39m.\u001b[39mpath\u001b[39m.\u001b[39mabspath(\u001b[39mself\u001b[39m\u001b[39m.\u001b[39mdirectory)\n",
      "File \u001b[0;32m~/miniconda3/envs/mda/lib/python3.11/subprocess.py:1262\u001b[0m, in \u001b[0;36mPopen.wait\u001b[0;34m(self, timeout)\u001b[0m\n\u001b[1;32m   1260\u001b[0m     endtime \u001b[39m=\u001b[39m _time() \u001b[39m+\u001b[39m timeout\n\u001b[1;32m   1261\u001b[0m \u001b[39mtry\u001b[39;00m:\n\u001b[0;32m-> 1262\u001b[0m     \u001b[39mreturn\u001b[39;00m \u001b[39mself\u001b[39;49m\u001b[39m.\u001b[39;49m_wait(timeout\u001b[39m=\u001b[39;49mtimeout)\n\u001b[1;32m   1263\u001b[0m \u001b[39mexcept\u001b[39;00m \u001b[39mKeyboardInterrupt\u001b[39;00m:\n\u001b[1;32m   1264\u001b[0m     \u001b[39m# https://bugs.python.org/issue25942\u001b[39;00m\n\u001b[1;32m   1265\u001b[0m     \u001b[39m# The first keyboard interrupt waits briefly for the child to\u001b[39;00m\n\u001b[1;32m   1266\u001b[0m     \u001b[39m# exit under the common assumption that it also received the ^C\u001b[39;00m\n\u001b[1;32m   1267\u001b[0m     \u001b[39m# generated SIGINT and will exit rapidly.\u001b[39;00m\n\u001b[1;32m   1268\u001b[0m     \u001b[39mif\u001b[39;00m timeout \u001b[39mis\u001b[39;00m \u001b[39mnot\u001b[39;00m \u001b[39mNone\u001b[39;00m:\n",
      "File \u001b[0;32m~/miniconda3/envs/mda/lib/python3.11/subprocess.py:2013\u001b[0m, in \u001b[0;36mPopen._wait\u001b[0;34m(self, timeout)\u001b[0m\n\u001b[1;32m   2011\u001b[0m \u001b[39mif\u001b[39;00m \u001b[39mself\u001b[39m\u001b[39m.\u001b[39mreturncode \u001b[39mis\u001b[39;00m \u001b[39mnot\u001b[39;00m \u001b[39mNone\u001b[39;00m:\n\u001b[1;32m   2012\u001b[0m     \u001b[39mbreak\u001b[39;00m  \u001b[39m# Another thread waited.\u001b[39;00m\n\u001b[0;32m-> 2013\u001b[0m (pid, sts) \u001b[39m=\u001b[39m \u001b[39mself\u001b[39;49m\u001b[39m.\u001b[39;49m_try_wait(\u001b[39m0\u001b[39;49m)\n\u001b[1;32m   2014\u001b[0m \u001b[39m# Check the pid and loop as waitpid has been known to\u001b[39;00m\n\u001b[1;32m   2015\u001b[0m \u001b[39m# return 0 even without WNOHANG in odd situations.\u001b[39;00m\n\u001b[1;32m   2016\u001b[0m \u001b[39m# http://bugs.python.org/issue14396.\u001b[39;00m\n\u001b[1;32m   2017\u001b[0m \u001b[39mif\u001b[39;00m pid \u001b[39m==\u001b[39m \u001b[39mself\u001b[39m\u001b[39m.\u001b[39mpid:\n",
      "File \u001b[0;32m~/miniconda3/envs/mda/lib/python3.11/subprocess.py:1971\u001b[0m, in \u001b[0;36mPopen._try_wait\u001b[0;34m(self, wait_flags)\u001b[0m\n\u001b[1;32m   1969\u001b[0m \u001b[39m\u001b[39m\u001b[39m\"\"\"All callers to this function MUST hold self._waitpid_lock.\"\"\"\u001b[39;00m\n\u001b[1;32m   1970\u001b[0m \u001b[39mtry\u001b[39;00m:\n\u001b[0;32m-> 1971\u001b[0m     (pid, sts) \u001b[39m=\u001b[39m os\u001b[39m.\u001b[39mwaitpid(\u001b[39mself\u001b[39m\u001b[39m.\u001b[39mpid, wait_flags)\n\u001b[1;32m   1972\u001b[0m \u001b[39mexcept\u001b[39;00m \u001b[39mChildProcessError\u001b[39;00m:\n\u001b[1;32m   1973\u001b[0m     \u001b[39m# This happens if SIGCLD is set to be ignored or waiting\u001b[39;00m\n\u001b[1;32m   1974\u001b[0m     \u001b[39m# for child processes has otherwise been disabled for our\u001b[39;00m\n\u001b[1;32m   1975\u001b[0m     \u001b[39m# process.  This child is dead, we can't get the status.\u001b[39;00m\n\u001b[1;32m   1976\u001b[0m     pid \u001b[39m=\u001b[39m \u001b[39mself\u001b[39m\u001b[39m.\u001b[39mpid\n",
      "\u001b[0;31mKeyboardInterrupt\u001b[0m: "
     ]
    }
   ],
   "source": [
    "# Perform the geometry optimization\n",
    "optimizer = LBFGS(atoms, trajectory='H2O.traj', use_line_search=False, damping=0.1)\n",
    "optimizer.run(fmax = 0.0001)\n",
    "# Access the optimized geometry\n",
    "optimized_positions = atoms.positions\n",
    "print(optimized_positions)"
   ]
  }
 ],
 "metadata": {
  "kernelspec": {
   "display_name": "Python 3.10.8 ('venv_tf_new')",
   "language": "python",
   "name": "python3"
  },
  "language_info": {
   "codemirror_mode": {
    "name": "ipython",
    "version": 3
   },
   "file_extension": ".py",
   "mimetype": "text/x-python",
   "name": "python",
   "nbconvert_exporter": "python",
   "pygments_lexer": "ipython3",
   "version": "3.10.8"
  },
  "orig_nbformat": 4,
  "vscode": {
   "interpreter": {
    "hash": "0666732ea5e9c887733766d6b6b0a66cf26d479aef7a6a9f79699cc0924aa90c"
   }
  }
 },
 "nbformat": 4,
 "nbformat_minor": 2
}
