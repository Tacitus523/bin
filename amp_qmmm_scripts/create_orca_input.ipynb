{
 "cells": [
  {
   "cell_type": "code",
   "execution_count": 1,
   "id": "3ddcd752",
   "metadata": {},
   "outputs": [],
   "source": [
    "import numpy as np\n",
    "import os"
   ]
  },
  {
   "cell_type": "code",
   "execution_count": 2,
   "id": "e583fa4b",
   "metadata": {},
   "outputs": [],
   "source": [
    "TARGET_DIR = \"/lustre/work/ws/ws1/ka_he8978-dipeptide/training/10_amp_qmmm/B2-PLYP_def2-QZVPP_D3BJ/04_sereina_support/lukas-scripted-models/numpy-regenerate/dalanine\""
   ]
  },
  {
   "cell_type": "code",
   "execution_count": 3,
   "id": "44d564fe",
   "metadata": {},
   "outputs": [
    {
     "name": "stdout",
     "output_type": "stream",
     "text": [
      "Loaded data shapes:\n",
      "orca_coordinates: (100000, 22, 3)\n",
      "orca_species: (100000, 22)\n",
      "orca_pc_charges: (100000, 1986)\n",
      "orca_pc_coordinates: (100000, 1986, 3)\n"
     ]
    }
   ],
   "source": [
    "os.chdir(TARGET_DIR) # Change to the target directory\n",
    "\n",
    "# Load data from .npy files\n",
    "orca_coordinates = np.load('orca_coordinates.npy')  # shape (N_atoms, 3)\n",
    "orca_species = np.load('orca_species.npy')          # shape (N_atoms,)\n",
    "orca_pc_charges = np.load('orca_pc_charges.npy')    # shape (N_pc,)\n",
    "orca_pc_coordinates = np.load('orca_pc_coordinates.npy')  # shape (N_pc, 3)\n",
    "\n",
    "print(\"Loaded data shapes:\")\n",
    "print(f\"orca_coordinates: {orca_coordinates.shape}\")\n",
    "print(f\"orca_species: {orca_species.shape}\")\n",
    "print(f\"orca_pc_charges: {orca_pc_charges.shape}\")\n",
    "print(f\"orca_pc_coordinates: {orca_pc_coordinates.shape}\")\n"
   ]
  },
  {
   "cell_type": "code",
   "execution_count": 6,
   "id": "398b6a03",
   "metadata": {},
   "outputs": [],
   "source": [
    "target_index = 0\n",
    "\n",
    "target_coordinates = orca_coordinates[target_index]\n",
    "target_species = orca_species[target_index]\n",
    "target_pc_charges = orca_pc_charges[target_index]\n",
    "target_pc_coordinates = orca_pc_coordinates[target_index]"
   ]
  },
  {
   "cell_type": "code",
   "execution_count": 6,
   "id": "fe915909",
   "metadata": {},
   "outputs": [],
   "source": [
    "# Prepare ORCA input file content\n",
    "orca_input_lines = []\n",
    "orca_input_lines.append('! B3LYP def2-SVP TightSCF')  # Example header, adjust as needed\n",
    "orca_input_lines.append('%pointcharges \"charges.pc\"')\n",
    "orca_input_lines.append('* xyz 0 1')\n",
    "\n",
    "# Add atoms\n",
    "for atom, coord in zip(target_species, target_coordinates):\n",
    "    orca_input_lines.append(f\"{atom} {coord[0]:.6f} {coord[1]:.6f} {coord[2]:.6f}\")\n",
    "\n",
    "orca_input_lines.append('*')\n",
    "\n",
    "# Write ORCA input file\n",
    "with open('orca_input.inp', 'w') as f:\n",
    "    for line in orca_input_lines:\n",
    "        f.write(line + '\\n')\n",
    "\n",
    "# Prepare point charges file\n",
    "with open('charges.pc', 'w') as f:\n",
    "    for charge, coord in zip(target_pc_charges, target_pc_coordinates):\n",
    "        f.write(f\"{charge:.6f} {coord[0]:.6f} {coord[1]:.6f} {coord[2]:.6f}\\n\")"
   ]
  },
  {
   "cell_type": "code",
   "execution_count": 4,
   "id": "62b9b3e6",
   "metadata": {},
   "outputs": [],
   "source": [
    "orca_energies = np.load('orca_energies.npy')  # shape (N_atoms, N_atoms)\n",
    "orca_engrad = np.load('orca_engrad.npy')  # shape (N_atoms, N_atoms, 3)\n",
    "orca_dipole = np.load('orca_dipoles.npy')  # shape (N_atoms, 3)\n",
    "orca_quadrupole = np.load('orca_quadrupoles.npy')  # shape (N_atoms, 3, 3)"
   ]
  },
  {
   "cell_type": "code",
   "execution_count": 7,
   "id": "e327ec19",
   "metadata": {},
   "outputs": [
    {
     "name": "stdout",
     "output_type": "stream",
     "text": [
      "Target energy: -495.735874339068\n",
      "Target engrad:\n",
      "[[-6.26129534e-03  2.68436776e-03 -9.96102243e-03]\n",
      " [-8.88797531e-03 -5.28345791e-03 -1.20265856e-02]\n",
      " [ 1.27047009e-02 -4.97541737e-03  1.04472092e-02]\n",
      " [ 3.43561836e-03  8.91311027e-04  1.80701122e-02]\n",
      " [ 2.12357842e-02 -1.60525541e-03 -3.64224412e-02]\n",
      " [-2.40450723e-02  9.00927340e-05  4.52611070e-03]\n",
      " [-2.18013412e-02  3.47017113e-02  3.39537224e-02]\n",
      " [ 2.32630451e-02 -1.09474909e-02 -1.30482781e-02]\n",
      " [ 5.42397198e-03  1.02659331e-02 -8.45929528e-03]\n",
      " [-2.03306297e-03 -2.96070017e-02  2.21755713e-02]\n",
      " [-8.98779463e-03  1.72371758e-02 -7.98331913e-03]\n",
      " [ 1.07375532e-02 -9.13586757e-04  2.01299308e-03]\n",
      " [-2.70452167e-03 -5.36621429e-03 -5.59290800e-05]\n",
      " [-4.03536938e-03 -1.10699929e-02 -5.83130816e-03]\n",
      " [-7.01620103e-03 -1.67042712e-03  1.08245487e-02]\n",
      " [ 2.57293679e-02  1.52486148e-02  1.05618445e-03]\n",
      " [-4.66585338e-02 -1.84266889e-02 -9.22273273e-02]\n",
      " [ 5.92480739e-02  1.39434784e-02  6.15267423e-02]\n",
      " [-1.41815849e-02 -3.25812651e-02  1.88946815e-02]\n",
      " [-4.14186009e-03  8.99643024e-03 -8.32605961e-03]\n",
      " [ 8.81247618e-04  2.49471537e-02  4.80119006e-03]\n",
      " [-1.38237352e-02 -8.92043075e-03  3.30455600e-06]]\n",
      "Target dipole:\n",
      "[ 2.52967 -0.35918  1.09906]\n",
      "Target quadrupole:\n",
      "[-47.10277 -38.61593 -45.60251   3.63584   5.13323   4.72298]\n"
     ]
    }
   ],
   "source": [
    "target_energy = orca_energies[target_index]\n",
    "target_engrad = orca_engrad[target_index]\n",
    "target_dipole = orca_dipole[target_index]\n",
    "target_quadrupole = orca_quadrupole[target_index]\n",
    "\n",
    "print(\"Target energy:\", target_energy)\n",
    "print(\"Target engrad:\")\n",
    "print(target_engrad)\n",
    "print(\"Target dipole:\")\n",
    "print(target_dipole)\n",
    "print(\"Target quadrupole:\")\n",
    "print(target_quadrupole)"
   ]
  },
  {
   "cell_type": "code",
   "execution_count": 14,
   "id": "17fc0706",
   "metadata": {},
   "outputs": [],
   "source": [
    "H2ev = 27.2114  # Hartree to eV conversion factor\n",
    "B2A = 0.529177  # Bohr to Angstrom conversion factor\n",
    "H_B2eV_A = H2ev / B2A  # Hartree per Bohr to eV per Angstrom conversion factor\n",
    "eB2eA = B2A # Dipole conversion factor, e*Bohr to e*Angstrom\n",
    "eB2Debye = 1/0.3934393 # Conversion factor from e*Bohr to Debye"
   ]
  },
  {
   "cell_type": "code",
   "execution_count": null,
   "id": "e65545ac",
   "metadata": {},
   "outputs": [
    {
     "name": "stdout",
     "output_type": "stream",
     "text": [
      "Energy:\n",
      "6318.593132919379\n",
      "Grads:\n",
      "[[-0.19374541  0.29515697 -0.01751355]\n",
      " [ 0.65834195 -0.1129296  -0.46306899]\n",
      " [ 0.17313044  0.59639183  0.64170067]\n",
      " [-0.24665512 -0.5843138  -0.18288794]\n",
      " [-0.28031608  0.46469964  0.33301131]\n",
      " [ 0.38837174  0.047842   -0.59355045]\n",
      " [-0.62904132  0.02423663  0.82276035]\n",
      " [ 0.46728571 -0.0556142  -0.35789817]\n",
      " [-1.00218214 -1.13685383  0.31879536]\n",
      " [-0.08298434  0.48442105  0.32805524]\n",
      " [ 0.81938321  0.18790175 -0.63537169]\n",
      " [-0.02257169 -0.16573383 -0.1873033 ]]\n",
      "Dipole:\n",
      "[-0.42380108 -0.22186396 -1.05973145]\n"
     ]
    }
   ],
   "source": [
    "# Benzene values\n",
    "energy = 232.203897370932*H2ev\n",
    "print(\"Energy:\")\n",
    "print(energy)\n",
    "grads = np.array([[-0.003767745,  0.005739884,   -0.000340584],\n",
    "[ 0.012802701, -0.002196129,   -0.009005250],\n",
    "[ 0.003366848,  0.011597964,    0.012479080],\n",
    "[-0.004796674, -0.011363084,   -0.003556601],\n",
    "[-0.005451275,  0.009036961,    0.006476033],\n",
    "[ 0.007552621,  0.000930378,   -0.011542708],\n",
    "[-0.012232895,  0.000471327,    0.016000127],\n",
    "[ 0.009087252, -0.001081523,   -0.006960005],\n",
    "[-0.019489322, -0.022108267,    0.006199577],\n",
    "[-0.001613787,  0.009420481,    0.006379653],\n",
    "[ 0.015934452,  0.003654104,   -0.012356001],\n",
    "[-0.000438949, -0.003223007,   -0.003642466],])*H_B2eV_A\n",
    "print(\"Grads:\")\n",
    "print(grads)\n",
    "\n",
    "dipole = np.array([-0.16674, -0.08729, -0.41694])*eB2Debye\n",
    "print(\"Dipole:\")\n",
    "print(dipole)"
   ]
  },
  {
   "cell_type": "code",
   "execution_count": null,
   "id": "fcb51fc9",
   "metadata": {},
   "outputs": [],
   "source": [
    "energy = "
   ]
  }
 ],
 "metadata": {
  "kernelspec": {
   "display_name": "amp_qmmm",
   "language": "python",
   "name": "python3"
  },
  "language_info": {
   "codemirror_mode": {
    "name": "ipython",
    "version": 3
   },
   "file_extension": ".py",
   "mimetype": "text/x-python",
   "name": "python",
   "nbconvert_exporter": "python",
   "pygments_lexer": "ipython3",
   "version": "3.11.11"
  }
 },
 "nbformat": 4,
 "nbformat_minor": 5
}
